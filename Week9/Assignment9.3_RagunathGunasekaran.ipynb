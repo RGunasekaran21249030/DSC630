{
 "cells": [
  {
   "cell_type": "markdown",
   "id": "lucky-tonight",
   "metadata": {},
   "source": [
    "# 9.3 Assignment: Calculate Probability of a Model Ensemble\n",
    "\n",
    " "
   ]
  },
  {
   "cell_type": "code",
   "execution_count": 1,
   "id": "weekly-religious",
   "metadata": {},
   "outputs": [
    {
     "name": "stdout",
     "output_type": "stream",
     "text": [
      "Requirement already satisfied: scipy in c:\\users\\ragun\\anaconda3\\lib\\site-packages (1.6.3)Note: you may need to restart the kernel to use updated packages.\n",
      "\n",
      "Requirement already satisfied: numpy<1.23.0,>=1.16.5 in c:\\users\\ragun\\anaconda3\\lib\\site-packages (from scipy) (1.19.5)\n"
     ]
    }
   ],
   "source": [
    "pip install scipy"
   ]
  },
  {
   "cell_type": "code",
   "execution_count": null,
   "id": "monetary-village",
   "metadata": {},
   "outputs": [],
   "source": [
    "import numpy as np\n",
    "\n",
    "import scipy\n",
    "from scipy.stats import binom"
   ]
  },
  {
   "cell_type": "code",
   "execution_count": null,
   "id": "hired-advocate",
   "metadata": {},
   "outputs": [],
   "source": [
    "def binom_pmf(k, n, p) :\n",
    "        return binom.pmf (k, n, p)"
   ]
  },
  {
   "cell_type": "code",
   "execution_count": null,
   "id": "metric-affair",
   "metadata": {},
   "outputs": [],
   "source": [
    "def binom_cdf(k, n, p) :\n",
    "        return 1 - binom.cdf (k, n, p)"
   ]
  },
  {
   "cell_type": "markdown",
   "id": "known-shakespeare",
   "metadata": {},
   "source": [
    "##  The ensemble contains 11 independent models, all of which have an error rate of 0.2"
   ]
  },
  {
   "cell_type": "code",
   "execution_count": null,
   "id": "structural-tennis",
   "metadata": {},
   "outputs": [],
   "source": [
    "NumberOfModules=11\n",
    "ErrorRate=0.2\n",
    "NumberOfFailures = np.ceil(NumberOfModules / 2)"
   ]
  },
  {
   "cell_type": "code",
   "execution_count": null,
   "id": "friendly-helen",
   "metadata": {},
   "outputs": [],
   "source": [
    "binom_pmf(k=NumberOfFailures-1, p=ErrorRate, n=NumberOfModules)"
   ]
  },
  {
   "cell_type": "markdown",
   "id": "increased-worker",
   "metadata": {},
   "source": [
    "#### 0.038755368959999995"
   ]
  },
  {
   "cell_type": "code",
   "execution_count": null,
   "id": "posted-congress",
   "metadata": {},
   "outputs": [],
   "source": [
    "binom_cdf(k=NumberOfFailures-1, p=ErrorRate, n=NumberOfModules)"
   ]
  },
  {
   "cell_type": "markdown",
   "id": "elder-assistant",
   "metadata": {},
   "source": [
    "#### 0.011654205439999954"
   ]
  },
  {
   "cell_type": "markdown",
   "id": "premier-capability",
   "metadata": {},
   "source": [
    "##  The ensemble contains 11 independent models, all of which have an error rate of 0.49"
   ]
  },
  {
   "cell_type": "code",
   "execution_count": null,
   "id": "portable-right",
   "metadata": {},
   "outputs": [],
   "source": [
    "NumberOfModules=11\n",
    "ErrorRate=0.49\n",
    "NumberOfFailures = np.ceil(NumberOfModules / 2)"
   ]
  },
  {
   "cell_type": "code",
   "execution_count": null,
   "id": "soviet-porcelain",
   "metadata": {},
   "outputs": [],
   "source": [
    "binom_cdf(k=NumberOfFailures-1, p=ErrorRate, n=NumberOfModules)"
   ]
  },
  {
   "cell_type": "markdown",
   "id": "julian-freedom",
   "metadata": {},
   "source": [
    "#### 0.4729477257149748"
   ]
  },
  {
   "cell_type": "code",
   "execution_count": null,
   "id": "artistic-chart",
   "metadata": {},
   "outputs": [],
   "source": [
    "binom_pmf(k=NumberOfFailures-1, p=ErrorRate, n=NumberOfModules)"
   ]
  },
  {
   "cell_type": "markdown",
   "id": "secure-cooperation",
   "metadata": {},
   "source": [
    "#### 0.2296378289465168"
   ]
  },
  {
   "cell_type": "markdown",
   "id": "certified-truck",
   "metadata": {},
   "source": [
    "## The ensemble contains 21 independent models, all of which have an error rate of 0.49."
   ]
  },
  {
   "cell_type": "code",
   "execution_count": null,
   "id": "opposite-myrtle",
   "metadata": {},
   "outputs": [],
   "source": [
    "NumberOfModules=21\n",
    "ErrorRate=0.49\n",
    "NumberOfFailures = np.ceil(NumberOfModules / 2)"
   ]
  },
  {
   "cell_type": "code",
   "execution_count": null,
   "id": "advisory-montreal",
   "metadata": {},
   "outputs": [],
   "source": [
    "binom_cdf(k=NumberOfFailures-1, p=ErrorRate, n=NumberOfModules)"
   ]
  },
  {
   "cell_type": "markdown",
   "id": "solved-heath",
   "metadata": {},
   "source": [
    "#### 0.4630479010127354"
   ]
  },
  {
   "cell_type": "code",
   "execution_count": null,
   "id": "quality-calendar",
   "metadata": {},
   "outputs": [],
   "source": [
    "binom_pmf(k=NumberOfFailures-1, p=ErrorRate, n=NumberOfModules)"
   ]
  },
  {
   "cell_type": "markdown",
   "id": "unknown-morocco",
   "metadata": {},
   "source": [
    "#### 0.17086688342342418"
   ]
  },
  {
   "cell_type": "markdown",
   "id": "dressed-possible",
   "metadata": {},
   "source": [
    "##  Conclusion\n",
    "\n",
    "The ensemble contains 11 independent models, all of which have an error rate of 0.2.\n",
    "1.16%\n",
    "\n",
    "The ensemble contains 11 independent models, all of which have an error rate of 0.49.\n",
    "47%\n",
    "\n",
    "The ensemble contains 21 independent models, all of which have an error rate of 0.49.\n",
    "46%"
   ]
  },
  {
   "cell_type": "code",
   "execution_count": null,
   "id": "unlike-caution",
   "metadata": {},
   "outputs": [],
   "source": []
  }
 ],
 "metadata": {
  "kernelspec": {
   "display_name": "Python 3",
   "language": "python",
   "name": "python3"
  },
  "language_info": {
   "codemirror_mode": {
    "name": "ipython",
    "version": 3
   },
   "file_extension": ".py",
   "mimetype": "text/x-python",
   "name": "python",
   "nbconvert_exporter": "python",
   "pygments_lexer": "ipython3",
   "version": "3.8.3"
  }
 },
 "nbformat": 4,
 "nbformat_minor": 5
}
