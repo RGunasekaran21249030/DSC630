{
 "cells": [
  {
   "cell_type": "markdown",
   "id": "subjective-prescription",
   "metadata": {},
   "source": [
    "##  Import Libraries"
   ]
  },
  {
   "cell_type": "code",
   "execution_count": 123,
   "id": "scientific-spine",
   "metadata": {},
   "outputs": [],
   "source": [
    "# linear algebra\n",
    "import numpy as np \n",
    "\n",
    "# data processing\n",
    "import pandas as pd \n",
    "\n",
    "# data visualization\n",
    "import seaborn as sns\n",
    "%matplotlib inline\n",
    "from matplotlib import pyplot as plt\n",
    "from matplotlib import style\n",
    "\n",
    "\n",
    "from sklearn.model_selection import train_test_split\n",
    "\n",
    "from sklearn.ensemble import RandomForestClassifier\n",
    "\n",
    "from sklearn.metrics import accuracy_score,precision_score,recall_score,f1_score,confusion_matrix\n",
    "\n",
    "from sklearn.linear_model import LogisticRegression\n",
    "\n",
    "from sklearn import neighbors\n",
    "from sklearn.metrics import classification_report"
   ]
  },
  {
   "cell_type": "markdown",
   "id": "becoming-edwards",
   "metadata": {},
   "source": [
    "## Load the data"
   ]
  },
  {
   "cell_type": "code",
   "execution_count": 124,
   "id": "caring-sunglasses",
   "metadata": {},
   "outputs": [],
   "source": [
    "addr1 = \"train.csv\"\n",
    "addr2 =\"destinations.csv\"\n",
    "addr3 =\"test.csv\"\n",
    "\n",
    "\n",
    "train_df = pd.read_csv(addr1, nrows=200000)\n",
    "destinations_df = pd.read_csv(addr2, nrows=100000)\n",
    "test_df= pd.read_csv(addr3, nrows=200000)"
   ]
  },
  {
   "cell_type": "code",
   "execution_count": 125,
   "id": "regulation-tennessee",
   "metadata": {},
   "outputs": [
    {
     "data": {
      "text/plain": [
       "(200000, 24)"
      ]
     },
     "execution_count": 125,
     "metadata": {},
     "output_type": "execute_result"
    }
   ],
   "source": [
    "train_df.shape"
   ]
  },
  {
   "cell_type": "code",
   "execution_count": 126,
   "id": "compact-safety",
   "metadata": {},
   "outputs": [
    {
     "data": {
      "text/plain": [
       "(62106, 150)"
      ]
     },
     "execution_count": 126,
     "metadata": {},
     "output_type": "execute_result"
    }
   ],
   "source": [
    "destinations_df.shape"
   ]
  },
  {
   "cell_type": "code",
   "execution_count": 127,
   "id": "starting-modern",
   "metadata": {},
   "outputs": [
    {
     "data": {
      "text/html": [
       "<div>\n",
       "<style scoped>\n",
       "    .dataframe tbody tr th:only-of-type {\n",
       "        vertical-align: middle;\n",
       "    }\n",
       "\n",
       "    .dataframe tbody tr th {\n",
       "        vertical-align: top;\n",
       "    }\n",
       "\n",
       "    .dataframe thead th {\n",
       "        text-align: right;\n",
       "    }\n",
       "</style>\n",
       "<table border=\"1\" class=\"dataframe\">\n",
       "  <thead>\n",
       "    <tr style=\"text-align: right;\">\n",
       "      <th></th>\n",
       "      <th>site_name</th>\n",
       "      <th>posa_continent</th>\n",
       "      <th>user_location_country</th>\n",
       "      <th>user_location_region</th>\n",
       "      <th>user_location_city</th>\n",
       "      <th>orig_destination_distance</th>\n",
       "      <th>user_id</th>\n",
       "      <th>is_mobile</th>\n",
       "      <th>is_package</th>\n",
       "      <th>channel</th>\n",
       "      <th>...</th>\n",
       "      <th>srch_children_cnt</th>\n",
       "      <th>srch_rm_cnt</th>\n",
       "      <th>srch_destination_id</th>\n",
       "      <th>srch_destination_type_id</th>\n",
       "      <th>is_booking</th>\n",
       "      <th>cnt</th>\n",
       "      <th>hotel_continent</th>\n",
       "      <th>hotel_country</th>\n",
       "      <th>hotel_market</th>\n",
       "      <th>hotel_cluster</th>\n",
       "    </tr>\n",
       "  </thead>\n",
       "  <tbody>\n",
       "    <tr>\n",
       "      <th>count</th>\n",
       "      <td>200000.000000</td>\n",
       "      <td>200000.000000</td>\n",
       "      <td>200000.000000</td>\n",
       "      <td>200000.000000</td>\n",
       "      <td>200000.000000</td>\n",
       "      <td>130363.000000</td>\n",
       "      <td>200000.000000</td>\n",
       "      <td>200000.000000</td>\n",
       "      <td>200000.000000</td>\n",
       "      <td>200000.00000</td>\n",
       "      <td>...</td>\n",
       "      <td>200000.000000</td>\n",
       "      <td>200000.000000</td>\n",
       "      <td>200000.000000</td>\n",
       "      <td>200000.000000</td>\n",
       "      <td>200000.000000</td>\n",
       "      <td>200000.000000</td>\n",
       "      <td>200000.000000</td>\n",
       "      <td>200000.000000</td>\n",
       "      <td>200000.00000</td>\n",
       "      <td>200000.000000</td>\n",
       "    </tr>\n",
       "    <tr>\n",
       "      <th>mean</th>\n",
       "      <td>8.902020</td>\n",
       "      <td>2.657040</td>\n",
       "      <td>85.249490</td>\n",
       "      <td>315.726450</td>\n",
       "      <td>27965.756295</td>\n",
       "      <td>1953.335631</td>\n",
       "      <td>380280.016485</td>\n",
       "      <td>0.136000</td>\n",
       "      <td>0.255325</td>\n",
       "      <td>5.81500</td>\n",
       "      <td>...</td>\n",
       "      <td>0.328000</td>\n",
       "      <td>1.116885</td>\n",
       "      <td>14591.808115</td>\n",
       "      <td>2.603865</td>\n",
       "      <td>0.083345</td>\n",
       "      <td>1.480630</td>\n",
       "      <td>3.176690</td>\n",
       "      <td>80.292910</td>\n",
       "      <td>601.35258</td>\n",
       "      <td>49.637945</td>\n",
       "    </tr>\n",
       "    <tr>\n",
       "      <th>std</th>\n",
       "      <td>11.909226</td>\n",
       "      <td>0.752855</td>\n",
       "      <td>54.458165</td>\n",
       "      <td>209.417337</td>\n",
       "      <td>16792.147285</td>\n",
       "      <td>2193.421104</td>\n",
       "      <td>212464.047443</td>\n",
       "      <td>0.342789</td>\n",
       "      <td>0.436045</td>\n",
       "      <td>3.75299</td>\n",
       "      <td>...</td>\n",
       "      <td>0.723387</td>\n",
       "      <td>0.457574</td>\n",
       "      <td>11047.396255</td>\n",
       "      <td>2.165358</td>\n",
       "      <td>0.276404</td>\n",
       "      <td>1.202889</td>\n",
       "      <td>1.628104</td>\n",
       "      <td>55.634115</td>\n",
       "      <td>509.62625</td>\n",
       "      <td>28.985590</td>\n",
       "    </tr>\n",
       "    <tr>\n",
       "      <th>min</th>\n",
       "      <td>2.000000</td>\n",
       "      <td>0.000000</td>\n",
       "      <td>0.000000</td>\n",
       "      <td>0.000000</td>\n",
       "      <td>3.000000</td>\n",
       "      <td>0.005600</td>\n",
       "      <td>12.000000</td>\n",
       "      <td>0.000000</td>\n",
       "      <td>0.000000</td>\n",
       "      <td>0.00000</td>\n",
       "      <td>...</td>\n",
       "      <td>0.000000</td>\n",
       "      <td>0.000000</td>\n",
       "      <td>8.000000</td>\n",
       "      <td>1.000000</td>\n",
       "      <td>0.000000</td>\n",
       "      <td>1.000000</td>\n",
       "      <td>0.000000</td>\n",
       "      <td>0.000000</td>\n",
       "      <td>0.00000</td>\n",
       "      <td>0.000000</td>\n",
       "    </tr>\n",
       "    <tr>\n",
       "      <th>25%</th>\n",
       "      <td>2.000000</td>\n",
       "      <td>3.000000</td>\n",
       "      <td>66.000000</td>\n",
       "      <td>174.000000</td>\n",
       "      <td>13442.000000</td>\n",
       "      <td>306.000350</td>\n",
       "      <td>181983.000000</td>\n",
       "      <td>0.000000</td>\n",
       "      <td>0.000000</td>\n",
       "      <td>2.00000</td>\n",
       "      <td>...</td>\n",
       "      <td>0.000000</td>\n",
       "      <td>1.000000</td>\n",
       "      <td>8267.000000</td>\n",
       "      <td>1.000000</td>\n",
       "      <td>0.000000</td>\n",
       "      <td>1.000000</td>\n",
       "      <td>2.000000</td>\n",
       "      <td>50.000000</td>\n",
       "      <td>180.00000</td>\n",
       "      <td>25.000000</td>\n",
       "    </tr>\n",
       "    <tr>\n",
       "      <th>50%</th>\n",
       "      <td>2.000000</td>\n",
       "      <td>3.000000</td>\n",
       "      <td>66.000000</td>\n",
       "      <td>314.000000</td>\n",
       "      <td>27655.000000</td>\n",
       "      <td>1123.419100</td>\n",
       "      <td>391007.000000</td>\n",
       "      <td>0.000000</td>\n",
       "      <td>0.000000</td>\n",
       "      <td>9.00000</td>\n",
       "      <td>...</td>\n",
       "      <td>0.000000</td>\n",
       "      <td>1.000000</td>\n",
       "      <td>11319.000000</td>\n",
       "      <td>1.000000</td>\n",
       "      <td>0.000000</td>\n",
       "      <td>1.000000</td>\n",
       "      <td>2.000000</td>\n",
       "      <td>50.000000</td>\n",
       "      <td>599.00000</td>\n",
       "      <td>49.000000</td>\n",
       "    </tr>\n",
       "    <tr>\n",
       "      <th>75%</th>\n",
       "      <td>11.000000</td>\n",
       "      <td>3.000000</td>\n",
       "      <td>69.000000</td>\n",
       "      <td>395.000000</td>\n",
       "      <td>42931.000000</td>\n",
       "      <td>2568.067150</td>\n",
       "      <td>574353.000000</td>\n",
       "      <td>0.000000</td>\n",
       "      <td>1.000000</td>\n",
       "      <td>9.00000</td>\n",
       "      <td>...</td>\n",
       "      <td>0.000000</td>\n",
       "      <td>1.000000</td>\n",
       "      <td>19352.000000</td>\n",
       "      <td>5.000000</td>\n",
       "      <td>0.000000</td>\n",
       "      <td>2.000000</td>\n",
       "      <td>4.000000</td>\n",
       "      <td>105.000000</td>\n",
       "      <td>701.00000</td>\n",
       "      <td>73.000000</td>\n",
       "    </tr>\n",
       "    <tr>\n",
       "      <th>max</th>\n",
       "      <td>53.000000</td>\n",
       "      <td>4.000000</td>\n",
       "      <td>239.000000</td>\n",
       "      <td>1025.000000</td>\n",
       "      <td>56498.000000</td>\n",
       "      <td>11641.224200</td>\n",
       "      <td>740408.000000</td>\n",
       "      <td>1.000000</td>\n",
       "      <td>1.000000</td>\n",
       "      <td>10.00000</td>\n",
       "      <td>...</td>\n",
       "      <td>9.000000</td>\n",
       "      <td>8.000000</td>\n",
       "      <td>65035.000000</td>\n",
       "      <td>9.000000</td>\n",
       "      <td>1.000000</td>\n",
       "      <td>59.000000</td>\n",
       "      <td>6.000000</td>\n",
       "      <td>212.000000</td>\n",
       "      <td>2117.00000</td>\n",
       "      <td>99.000000</td>\n",
       "    </tr>\n",
       "  </tbody>\n",
       "</table>\n",
       "<p>8 rows × 21 columns</p>\n",
       "</div>"
      ],
      "text/plain": [
       "           site_name  posa_continent  user_location_country  \\\n",
       "count  200000.000000   200000.000000          200000.000000   \n",
       "mean        8.902020        2.657040              85.249490   \n",
       "std        11.909226        0.752855              54.458165   \n",
       "min         2.000000        0.000000               0.000000   \n",
       "25%         2.000000        3.000000              66.000000   \n",
       "50%         2.000000        3.000000              66.000000   \n",
       "75%        11.000000        3.000000              69.000000   \n",
       "max        53.000000        4.000000             239.000000   \n",
       "\n",
       "       user_location_region  user_location_city  orig_destination_distance  \\\n",
       "count         200000.000000       200000.000000              130363.000000   \n",
       "mean             315.726450        27965.756295                1953.335631   \n",
       "std              209.417337        16792.147285                2193.421104   \n",
       "min                0.000000            3.000000                   0.005600   \n",
       "25%              174.000000        13442.000000                 306.000350   \n",
       "50%              314.000000        27655.000000                1123.419100   \n",
       "75%              395.000000        42931.000000                2568.067150   \n",
       "max             1025.000000        56498.000000               11641.224200   \n",
       "\n",
       "             user_id      is_mobile     is_package       channel  ...  \\\n",
       "count  200000.000000  200000.000000  200000.000000  200000.00000  ...   \n",
       "mean   380280.016485       0.136000       0.255325       5.81500  ...   \n",
       "std    212464.047443       0.342789       0.436045       3.75299  ...   \n",
       "min        12.000000       0.000000       0.000000       0.00000  ...   \n",
       "25%    181983.000000       0.000000       0.000000       2.00000  ...   \n",
       "50%    391007.000000       0.000000       0.000000       9.00000  ...   \n",
       "75%    574353.000000       0.000000       1.000000       9.00000  ...   \n",
       "max    740408.000000       1.000000       1.000000      10.00000  ...   \n",
       "\n",
       "       srch_children_cnt    srch_rm_cnt  srch_destination_id  \\\n",
       "count      200000.000000  200000.000000        200000.000000   \n",
       "mean            0.328000       1.116885         14591.808115   \n",
       "std             0.723387       0.457574         11047.396255   \n",
       "min             0.000000       0.000000             8.000000   \n",
       "25%             0.000000       1.000000          8267.000000   \n",
       "50%             0.000000       1.000000         11319.000000   \n",
       "75%             0.000000       1.000000         19352.000000   \n",
       "max             9.000000       8.000000         65035.000000   \n",
       "\n",
       "       srch_destination_type_id     is_booking            cnt  \\\n",
       "count             200000.000000  200000.000000  200000.000000   \n",
       "mean                   2.603865       0.083345       1.480630   \n",
       "std                    2.165358       0.276404       1.202889   \n",
       "min                    1.000000       0.000000       1.000000   \n",
       "25%                    1.000000       0.000000       1.000000   \n",
       "50%                    1.000000       0.000000       1.000000   \n",
       "75%                    5.000000       0.000000       2.000000   \n",
       "max                    9.000000       1.000000      59.000000   \n",
       "\n",
       "       hotel_continent  hotel_country  hotel_market  hotel_cluster  \n",
       "count    200000.000000  200000.000000  200000.00000  200000.000000  \n",
       "mean          3.176690      80.292910     601.35258      49.637945  \n",
       "std           1.628104      55.634115     509.62625      28.985590  \n",
       "min           0.000000       0.000000       0.00000       0.000000  \n",
       "25%           2.000000      50.000000     180.00000      25.000000  \n",
       "50%           2.000000      50.000000     599.00000      49.000000  \n",
       "75%           4.000000     105.000000     701.00000      73.000000  \n",
       "max           6.000000     212.000000    2117.00000      99.000000  \n",
       "\n",
       "[8 rows x 21 columns]"
      ]
     },
     "execution_count": 127,
     "metadata": {},
     "output_type": "execute_result"
    }
   ],
   "source": [
    "train_df.describe()"
   ]
  },
  {
   "cell_type": "code",
   "execution_count": 128,
   "id": "occasional-aggregate",
   "metadata": {},
   "outputs": [
    {
     "data": {
      "text/plain": [
       "Index(['date_time', 'site_name', 'posa_continent', 'user_location_country',\n",
       "       'user_location_region', 'user_location_city',\n",
       "       'orig_destination_distance', 'user_id', 'is_mobile', 'is_package',\n",
       "       'channel', 'srch_ci', 'srch_co', 'srch_adults_cnt', 'srch_children_cnt',\n",
       "       'srch_rm_cnt', 'srch_destination_id', 'srch_destination_type_id',\n",
       "       'is_booking', 'cnt', 'hotel_continent', 'hotel_country', 'hotel_market',\n",
       "       'hotel_cluster'],\n",
       "      dtype='object')"
      ]
     },
     "execution_count": 128,
     "metadata": {},
     "output_type": "execute_result"
    }
   ],
   "source": [
    "train_df.columns"
   ]
  },
  {
   "cell_type": "code",
   "execution_count": 129,
   "id": "comprehensive-testament",
   "metadata": {},
   "outputs": [
    {
     "data": {
      "text/plain": [
       "date_time                        0\n",
       "site_name                        0\n",
       "posa_continent                   0\n",
       "user_location_country            0\n",
       "user_location_region             0\n",
       "user_location_city               0\n",
       "orig_destination_distance    69637\n",
       "user_id                          0\n",
       "is_mobile                        0\n",
       "is_package                       0\n",
       "channel                          0\n",
       "srch_ci                        177\n",
       "srch_co                        177\n",
       "srch_adults_cnt                  0\n",
       "srch_children_cnt                0\n",
       "srch_rm_cnt                      0\n",
       "srch_destination_id              0\n",
       "srch_destination_type_id         0\n",
       "is_booking                       0\n",
       "cnt                              0\n",
       "hotel_continent                  0\n",
       "hotel_country                    0\n",
       "hotel_market                     0\n",
       "hotel_cluster                    0\n",
       "dtype: int64"
      ]
     },
     "execution_count": 129,
     "metadata": {},
     "output_type": "execute_result"
    }
   ],
   "source": [
    "train_df.isnull().sum()"
   ]
  },
  {
   "cell_type": "code",
   "execution_count": 130,
   "id": "communist-citation",
   "metadata": {},
   "outputs": [],
   "source": [
    "train_df.isna().sum()\n",
    "train_df.isnull().any()\n",
    "train_df = train_df.dropna()"
   ]
  },
  {
   "cell_type": "code",
   "execution_count": 139,
   "id": "stuffed-wallpaper",
   "metadata": {},
   "outputs": [],
   "source": [
    "train_df['srch_ci'] = pd.to_datetime(train_df['srch_ci'])\n",
    "train_df['srch_co'] = pd.to_datetime(train_df['srch_co'])\n",
    "train_df['date_time'] = pd.to_datetime(train_df['date_time'])\n",
    "train_df['Cin_day'] = train_df[\"srch_ci\"].apply(lambda x: x.day)\n",
    "train_df['Cin_month'] = train_df[\"srch_ci\"].apply(lambda x: x.month)\n",
    "train_df['Cin_year'] = train_df[\"srch_ci\"].apply(lambda x: x.year)"
   ]
  },
  {
   "cell_type": "code",
   "execution_count": 135,
   "id": "challenging-right",
   "metadata": {},
   "outputs": [
    {
     "data": {
      "text/plain": [
       "(130238, 27)"
      ]
     },
     "execution_count": 135,
     "metadata": {},
     "output_type": "execute_result"
    }
   ],
   "source": [
    "train_df.shape"
   ]
  },
  {
   "cell_type": "code",
   "execution_count": 133,
   "id": "handmade-entry",
   "metadata": {},
   "outputs": [
    {
     "name": "stdout",
     "output_type": "stream",
     "text": [
      "<class 'pandas.core.frame.DataFrame'>\n",
      "Int64Index: 130238 entries, 0 to 199996\n",
      "Data columns (total 22 columns):\n",
      " #   Column                    Non-Null Count   Dtype\n",
      "---  ------                    --------------   -----\n",
      " 0   site_name                 130238 non-null  int64\n",
      " 1   posa_continent            130238 non-null  int64\n",
      " 2   user_location_country     130238 non-null  int64\n",
      " 3   user_location_region      130238 non-null  int64\n",
      " 4   user_location_city        130238 non-null  int64\n",
      " 5   user_id                   130238 non-null  int64\n",
      " 6   is_mobile                 130238 non-null  int64\n",
      " 7   is_package                130238 non-null  int64\n",
      " 8   channel                   130238 non-null  int64\n",
      " 9   srch_adults_cnt           130238 non-null  int64\n",
      " 10  srch_children_cnt         130238 non-null  int64\n",
      " 11  srch_rm_cnt               130238 non-null  int64\n",
      " 12  srch_destination_id       130238 non-null  int64\n",
      " 13  srch_destination_type_id  130238 non-null  int64\n",
      " 14  cnt                       130238 non-null  int64\n",
      " 15  hotel_continent           130238 non-null  int64\n",
      " 16  hotel_country             130238 non-null  int64\n",
      " 17  hotel_market              130238 non-null  int64\n",
      " 18  hotel_cluster             130238 non-null  int64\n",
      " 19  Cin_day                   130238 non-null  int64\n",
      " 20  Cin_month                 130238 non-null  int64\n",
      " 21  Cin_year                  130238 non-null  int64\n",
      "dtypes: int64(22)\n",
      "memory usage: 26.9 MB\n"
     ]
    }
   ],
   "source": [
    "Y = train_df['is_booking']\n",
    "X = train_df.drop(['date_time','orig_destination_distance','srch_ci','srch_co','is_booking'],axis=1)\n",
    "X.info()"
   ]
  },
  {
   "cell_type": "markdown",
   "id": "blond-desperate",
   "metadata": {},
   "source": [
    "###  Split the data into Train and Test ( 15% Test )"
   ]
  },
  {
   "cell_type": "code",
   "execution_count": 136,
   "id": "coated-mustang",
   "metadata": {},
   "outputs": [
    {
     "name": "stdout",
     "output_type": "stream",
     "text": [
      "110702\n",
      "19536\n"
     ]
    }
   ],
   "source": [
    "X_train, X_test, Y_train, Y_test = train_test_split(X, Y, test_size=0.15, random_state=1)\n",
    "print(len(X_train))\n",
    "print(len(X_test))"
   ]
  },
  {
   "cell_type": "markdown",
   "id": "international-decrease",
   "metadata": {},
   "source": [
    "###  RandomForestClassifier"
   ]
  },
  {
   "cell_type": "code",
   "execution_count": 119,
   "id": "unlikely-cooper",
   "metadata": {},
   "outputs": [
    {
     "name": "stdout",
     "output_type": "stream",
     "text": [
      "Accuracy: 0.8642902475142796\n",
      "confusion_matrix\n",
      "[[8163  455]\n",
      " [ 828    8]]\n",
      "              precision    recall  f1-score   support\n",
      "\n",
      "           0       0.91      0.95      0.93      8618\n",
      "           1       0.02      0.01      0.01       836\n",
      "\n",
      "    accuracy                           0.86      9454\n",
      "   macro avg       0.46      0.48      0.47      9454\n",
      "weighted avg       0.83      0.86      0.85      9454\n",
      "\n",
      "[0.01200692 0.00342927 0.01050118 0.06411019 0.09032888 0.09046352\n",
      " 0.00936114 0.01060071 0.03503213 0.03074491 0.01858326 0.01091458\n",
      " 0.09193735 0.02180172 0.04554937 0.01025126 0.02139675 0.08198315\n",
      " 0.14808141 0.11218875 0.06165254 0.01908099]\n"
     ]
    }
   ],
   "source": [
    "clf = RandomForestClassifier(n_estimators=80)\n",
    "clf.fit(X_train, Y_train)\n",
    "y_pred=clf.predict(X_test)\n",
    "acc=accuracy_score(Y_test,y_pred)\n",
    "\n",
    "\n",
    "print(\"Accuracy:\" ,acc)\n",
    "print( \"confusion_matrix\")\n",
    "print( confusion_matrix(Y_test, y_pred))\n",
    "\n",
    "print(classification_report(Y_test, y_pred))\n",
    "print(clf.feature_importances_)"
   ]
  },
  {
   "cell_type": "markdown",
   "id": "paperback-administration",
   "metadata": {},
   "source": [
    "###  LogisticRegression"
   ]
  },
  {
   "cell_type": "code",
   "execution_count": 120,
   "id": "split-innocent",
   "metadata": {},
   "outputs": [
    {
     "name": "stdout",
     "output_type": "stream",
     "text": [
      "Accuracy: 0.9115718214512376\n",
      "confusion_matrix\n",
      "[[8618    0]\n",
      " [ 836    0]]\n",
      "              precision    recall  f1-score   support\n",
      "\n",
      "           0       0.91      1.00      0.95      8618\n",
      "           1       0.00      0.00      0.00       836\n",
      "\n",
      "    accuracy                           0.91      9454\n",
      "   macro avg       0.46      0.50      0.48      9454\n",
      "weighted avg       0.83      0.91      0.87      9454\n",
      "\n"
     ]
    },
    {
     "name": "stderr",
     "output_type": "stream",
     "text": [
      "C:\\Users\\ragun\\anaconda3\\lib\\site-packages\\sklearn\\metrics\\_classification.py:1245: UndefinedMetricWarning: Precision and F-score are ill-defined and being set to 0.0 in labels with no predicted samples. Use `zero_division` parameter to control this behavior.\n",
      "  _warn_prf(average, modifier, msg_start, len(result))\n",
      "C:\\Users\\ragun\\anaconda3\\lib\\site-packages\\sklearn\\metrics\\_classification.py:1245: UndefinedMetricWarning: Precision and F-score are ill-defined and being set to 0.0 in labels with no predicted samples. Use `zero_division` parameter to control this behavior.\n",
      "  _warn_prf(average, modifier, msg_start, len(result))\n",
      "C:\\Users\\ragun\\anaconda3\\lib\\site-packages\\sklearn\\metrics\\_classification.py:1245: UndefinedMetricWarning: Precision and F-score are ill-defined and being set to 0.0 in labels with no predicted samples. Use `zero_division` parameter to control this behavior.\n",
      "  _warn_prf(average, modifier, msg_start, len(result))\n"
     ]
    }
   ],
   "source": [
    "lr = LogisticRegression()\n",
    "lr.fit(X_train, Y_train)\n",
    "y_predict = lr.predict(X_test)\n",
    "acc=accuracy_score(Y_test,y_predict)\n",
    "\n",
    "print(\"Accuracy:\" ,acc)\n",
    "print( \"confusion_matrix\")\n",
    "print( confusion_matrix(Y_test, y_predict))\n",
    "\n",
    "print(classification_report(Y_test, y_predict))"
   ]
  },
  {
   "cell_type": "markdown",
   "id": "turned-happening",
   "metadata": {},
   "source": [
    "###  KNeighborsClassifier"
   ]
  },
  {
   "cell_type": "code",
   "execution_count": 121,
   "id": "northern-officer",
   "metadata": {},
   "outputs": [
    {
     "name": "stdout",
     "output_type": "stream",
     "text": [
      "Accuracy: 0.9028982441294691\n",
      "confusion_matrix\n",
      "[[8527   91]\n",
      " [ 827    9]]\n",
      "              precision    recall  f1-score   support\n",
      "\n",
      "           0       0.91      0.99      0.95      8618\n",
      "           1       0.09      0.01      0.02       836\n",
      "\n",
      "    accuracy                           0.90      9454\n",
      "   macro avg       0.50      0.50      0.48      9454\n",
      "weighted avg       0.84      0.90      0.87      9454\n",
      "\n"
     ]
    }
   ],
   "source": [
    "knn = neighbors.KNeighborsClassifier()\n",
    "knn.fit(X_train,Y_train)\n",
    "y_predict = knn.predict(X_test)\n",
    "acc=accuracy_score(Y_test,y_predict)\n",
    "\n",
    "print(\"Accuracy:\" ,acc)\n",
    "print( \"confusion_matrix\")\n",
    "print( confusion_matrix(Y_test, y_predict))\n",
    "\n",
    "print(classification_report(Y_test, y_predict))"
   ]
  },
  {
   "cell_type": "markdown",
   "id": "differential-edmonton",
   "metadata": {},
   "source": [
    "### Conclusion\n",
    "\n",
    "1. Loaded the data\n",
    "\n",
    "2. Performed the EDA and removed some NA values\n",
    "\n",
    "3. Splited the data into Test and Training in the Ratio of 85% and 15%\n",
    "\n",
    "4. Used Random Forest Model to verify and the accuracy is 91%\n",
    "\n",
    "5. Used Logestic Regression Model to verify and the accuracy is 86%\n",
    "\n",
    "5. Used KNeighborsClassifier Model to verify and the accuracy is 90%"
   ]
  },
  {
   "cell_type": "code",
   "execution_count": null,
   "id": "mediterranean-astronomy",
   "metadata": {},
   "outputs": [],
   "source": []
  }
 ],
 "metadata": {
  "kernelspec": {
   "display_name": "Python 3",
   "language": "python",
   "name": "python3"
  },
  "language_info": {
   "codemirror_mode": {
    "name": "ipython",
    "version": 3
   },
   "file_extension": ".py",
   "mimetype": "text/x-python",
   "name": "python",
   "nbconvert_exporter": "python",
   "pygments_lexer": "ipython3",
   "version": "3.8.3"
  }
 },
 "nbformat": 4,
 "nbformat_minor": 5
}
